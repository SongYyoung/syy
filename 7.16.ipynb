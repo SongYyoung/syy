{
 "cells": [
  {
   "cell_type": "markdown",
   "metadata": {},
   "source": [
    "# 基本程序设计\n",
    "- 一切代码输入，请使用英文输入法"
   ]
  },
  {
   "cell_type": "code",
   "execution_count": 1,
   "metadata": {},
   "outputs": [
    {
     "name": "stdout",
     "output_type": "stream",
     "text": [
      ">>3123\n",
      "9753129\n"
     ]
    }
   ],
   "source": [
    "bianchang = int(input('>>'))\n",
    "area = bianchang * bianchang\n",
    "print(area)"
   ]
  },
  {
   "cell_type": "code",
   "execution_count": null,
   "metadata": {},
   "outputs": [],
   "source": []
  },
  {
   "cell_type": "markdown",
   "metadata": {},
   "source": [
    "## 编写一个简单的程序\n",
    "\n",
    "- 圆公式面积： area = radius \\* radius \\* 3.1415\n"
   ]
  },
  {
   "cell_type": "markdown",
   "metadata": {},
   "source": [
    "            # 在Python里面不需要定义数据的类型"
   ]
  },
  {
   "cell_type": "code",
   "execution_count": 11,
   "metadata": {},
   "outputs": [
    {
     "name": "stdout",
     "output_type": "stream",
     "text": [
      "今天天气贼好1\n"
     ]
    },
    {
     "data": {
      "text/plain": [
       "0"
      ]
     },
     "execution_count": 11,
     "metadata": {},
     "output_type": "execute_result"
    }
   ],
   "source": [
    "import os\n",
    "input_ = input ('今天天气贼好')\n",
    "os.system('calc')"
   ]
  },
  {
   "cell_type": "markdown",
   "metadata": {},
   "source": [
    "## 控制台的读取与输入\n",
    "- input 输入进去的是字符串\n",
    "- eval"
   ]
  },
  {
   "cell_type": "markdown",
   "metadata": {},
   "source": [
    "- 在jupyter用shift + tab 键可以跳出解释文档"
   ]
  },
  {
   "cell_type": "markdown",
   "metadata": {},
   "source": [
    "## 变量命名的规范\n",
    "- 由字母、数字、下划线构成\n",
    "- 不能以数字开头 \\*\n",
    "- 标识符不能是关键词(实际上是可以强制改变的，但是对于代码规范而言是极其不适合)\n",
    "- 可以是任意长度\n",
    "- 驼峰式命名"
   ]
  },
  {
   "cell_type": "code",
   "execution_count": null,
   "metadata": {},
   "outputs": [],
   "source": []
  },
  {
   "cell_type": "markdown",
   "metadata": {},
   "source": [
    "## 变量、赋值语句和赋值表达式\n",
    "- 变量: 通俗理解为可以变化的量\n",
    "- x = 2 \\* x + 1 在数学中是一个方程，而在语言中它是一个表达式\n",
    "- test = test + 1 \\* 变量在赋值之前必须有值"
   ]
  },
  {
   "cell_type": "code",
   "execution_count": null,
   "metadata": {},
   "outputs": [],
   "source": [
    "radius = eval(input('>>'))\n",
    "radius = radius * radius\n",
    "print(radius)"
   ]
  },
  {
   "cell_type": "markdown",
   "metadata": {},
   "source": [
    "## 同时赋值\n",
    "var1, var2,var3... = exp1,exp2,exp3..."
   ]
  },
  {
   "cell_type": "code",
   "execution_count": 2,
   "metadata": {},
   "outputs": [
    {
     "name": "stdout",
     "output_type": "stream",
     "text": [
      "男 女\n"
     ]
    }
   ],
   "source": [
    "小明,小红,小蓝 = '男','女','不男不女'\n",
    "print(小明,小红)"
   ]
  },
  {
   "cell_type": "markdown",
   "metadata": {},
   "source": [
    "## 定义常量\n",
    "- 常量：表示一种定值标识符，适合于多次使用的场景。比如PI\n",
    "- 注意：在其他低级语言中如果定义了常量，那么，该常量是不可以被改变的，但是在Python中一切皆对象，常量也是可以被改变的"
   ]
  },
  {
   "cell_type": "markdown",
   "metadata": {},
   "source": [
    "## 数值数据类型和运算符\n",
    "- 在Python中有两种数值类型（int 和 float）适用于加减乘除、模、幂次\n",
    "<img src = \"../Photo/01.jpg\"></img>"
   ]
  },
  {
   "cell_type": "markdown",
   "metadata": {},
   "source": [
    "## 运算符 /、//、**"
   ]
  },
  {
   "cell_type": "markdown",
   "metadata": {},
   "source": [
    "## 运算符 %"
   ]
  },
  {
   "cell_type": "markdown",
   "metadata": {},
   "source": [
    "## EP：\n",
    "- 25/4 多少，如果要将其转变为整数该怎么改写\n",
    "- 输入一个数字判断是奇数还是偶数\n",
    "- 进阶: 输入一个秒数，写一个程序将其转换成分和秒：例如500秒等于8分20秒\n",
    "- 进阶: 如果今天是星期六，那么10天以后是星期几？ 提示：每个星期的第0天是星期天"
   ]
  },
  {
   "cell_type": "code",
   "execution_count": 3,
   "metadata": {},
   "outputs": [
    {
     "data": {
      "text/plain": [
       "6.25"
      ]
     },
     "execution_count": 3,
     "metadata": {},
     "output_type": "execute_result"
    }
   ],
   "source": [
    "25 /4"
   ]
  },
  {
   "cell_type": "code",
   "execution_count": 4,
   "metadata": {},
   "outputs": [
    {
     "data": {
      "text/plain": [
       "6"
      ]
     },
     "execution_count": 4,
     "metadata": {},
     "output_type": "execute_result"
    }
   ],
   "source": [
    "25 //4"
   ]
  },
  {
   "cell_type": "code",
   "execution_count": 4,
   "metadata": {},
   "outputs": [
    {
     "data": {
      "text/plain": [
       "6"
      ]
     },
     "execution_count": 4,
     "metadata": {},
     "output_type": "execute_result"
    }
   ],
   "source": [
    "int(25/4)"
   ]
  },
  {
   "cell_type": "code",
   "execution_count": 9,
   "metadata": {},
   "outputs": [
    {
     "name": "stdout",
     "output_type": "stream",
     "text": [
      ">>3\n",
      "是奇数\n"
     ]
    }
   ],
   "source": [
    "num = eval (input('>>'))\n",
    "if num % 2 == 0:\n",
    "    print('输入的数字'+str(num)+'是偶数')\n",
    "else:\n",
    "    print('是奇数')"
   ]
  },
  {
   "cell_type": "code",
   "execution_count": 11,
   "metadata": {},
   "outputs": [
    {
     "name": "stdout",
     "output_type": "stream",
     "text": [
      ">>500\n",
      "8分 20秒\n"
     ]
    }
   ],
   "source": [
    "times = eval (input('>>'))\n",
    "mins = times //60\n",
    "times_ = times % 60\n",
    "print(str(mins) + '分',str(times_) + '秒')\n",
    "    "
   ]
  },
  {
   "cell_type": "code",
   "execution_count": 14,
   "metadata": {},
   "outputs": [
    {
     "name": "stdout",
     "output_type": "stream",
     "text": [
      ">>1\n",
      "1在10天之后是4\n"
     ]
    }
   ],
   "source": [
    "weekdend = eval(input('>>'))\n",
    "res = (weekdend + 10) % 7\n",
    "print(str(weekdend)+'在10天之后是'+str(res))"
   ]
  },
  {
   "cell_type": "markdown",
   "metadata": {},
   "source": [
    "## 科学计数法\n",
    "- 1.234e+2\n",
    "- 1.234e-2"
   ]
  },
  {
   "cell_type": "code",
   "execution_count": 7,
   "metadata": {},
   "outputs": [
    {
     "data": {
      "text/plain": [
       "123.4"
      ]
     },
     "execution_count": 7,
     "metadata": {},
     "output_type": "execute_result"
    }
   ],
   "source": [
    "1.234e+2"
   ]
  },
  {
   "cell_type": "markdown",
   "metadata": {},
   "source": [
    "#### "
   ]
  },
  {
   "cell_type": "markdown",
   "metadata": {},
   "source": [
    "## 计算表达式和运算优先级\n",
    "<img src = \"../Photo/02.png\"></img>\n",
    "<img src = \"../Photo/03.png\"></img>"
   ]
  },
  {
   "cell_type": "code",
   "execution_count": 8,
   "metadata": {},
   "outputs": [
    {
     "name": "stdout",
     "output_type": "stream",
     "text": [
      "38.699999999999996\n"
     ]
    }
   ],
   "source": [
    "x = 10\n",
    "y = 6\n",
    "a = 0\n",
    "b = 1\n",
    "c = 1\n",
    "p = ((3+4*x)/5)-((10*(y-5)*(a+b+c))/x)+(9*((4/x)+((9+x)/y)))\n",
    "print(p)"
   ]
  },
  {
   "cell_type": "code",
   "execution_count": 7,
   "metadata": {},
   "outputs": [
    {
     "name": "stdout",
     "output_type": "stream",
     "text": [
      "181.2\n"
     ]
    }
   ],
   "source": [
    "x = 10\n",
    "y = 6\n",
    "a = 0\n",
    "b = 1\n",
    "c = 1\n",
    "p1 = 3+4*x\n",
    "p2 = p1/5\n",
    "p3 = y-5\n",
    "p4 = a+b+c\n",
    "p5 = 10*p3*p4\n",
    "p6 = p5/x\n",
    "p7 = 4/x\n",
    "p8 = 9+x\n",
    "p9 = p8/y\n",
    "p10 = p7+p8\n",
    "p11 = 9*p10\n",
    "p12 = p2-p6+p11\n",
    "print(p12)"
   ]
  },
  {
   "cell_type": "markdown",
   "metadata": {},
   "source": [
    "## 增强型赋值运算\n",
    "<img src = \"../Photo/04.png\"></img>"
   ]
  },
  {
   "cell_type": "code",
   "execution_count": 15,
   "metadata": {},
   "outputs": [
    {
     "data": {
      "text/plain": [
       "2"
      ]
     },
     "execution_count": 15,
     "metadata": {},
     "output_type": "execute_result"
    }
   ],
   "source": [
    "a = 1\n",
    "a +=1\n",
    "a"
   ]
  },
  {
   "cell_type": "markdown",
   "metadata": {},
   "source": [
    "## 类型转换\n",
    "- float  -> int\n",
    "- 四舍五入 round"
   ]
  },
  {
   "cell_type": "code",
   "execution_count": 16,
   "metadata": {},
   "outputs": [
    {
     "data": {
      "text/plain": [
       "3.14"
      ]
     },
     "execution_count": 16,
     "metadata": {},
     "output_type": "execute_result"
    }
   ],
   "source": [
    "round(3.141592,2)   #要四舍五入的值，第二个保留位数"
   ]
  },
  {
   "cell_type": "markdown",
   "metadata": {},
   "source": [
    "## EP:\n",
    "- 如果一个年营业税为0.06%，那么对于197.55e+2的年收入，需要交税为多少？(结果保留2为小数)\n",
    "- 必须使用科学计数法"
   ]
  },
  {
   "cell_type": "code",
   "execution_count": 21,
   "metadata": {},
   "outputs": [
    {
     "data": {
      "text/plain": [
       "0.0006"
      ]
     },
     "execution_count": 21,
     "metadata": {},
     "output_type": "execute_result"
    }
   ],
   "source": [
    "6e-4"
   ]
  },
  {
   "cell_type": "code",
   "execution_count": 20,
   "metadata": {},
   "outputs": [
    {
     "data": {
      "text/plain": [
       "11.85"
      ]
     },
     "execution_count": 20,
     "metadata": {},
     "output_type": "execute_result"
    }
   ],
   "source": [
    "round((197.55e+2) * (6e-4),2)"
   ]
  },
  {
   "cell_type": "markdown",
   "metadata": {},
   "source": [
    "# Project\n",
    "- 用Python写一个贷款计算器程序：输入的是月供(monthlyPayment) 输出的是总还款数(totalpayment)\n",
    "![](../Photo/05.png)"
   ]
  },
  {
   "cell_type": "code",
   "execution_count": 6,
   "metadata": {},
   "outputs": [
    {
     "name": "stdout",
     "output_type": "stream",
     "text": [
      "money,month rate,years10000,0.02,2\n",
      "12689.063340779965\n"
     ]
    }
   ],
   "source": [
    "贷款数,月利率,年限 = eval(input('money,month rate,years'))\n",
    "月供 = (贷款数 * 月利率) / (1- (1 / (1+ 月利率)**(年限 * 12)))\n",
    "总还款数 = 年限*月供 * 12\n",
    "print(总还款数)"
   ]
  },
  {
   "cell_type": "markdown",
   "metadata": {},
   "source": [
    "# Homework\n",
    "- 1\n",
    "<img src=\"../Photo/06.png\"></img>"
   ]
  },
  {
   "cell_type": "code",
   "execution_count": 14,
   "metadata": {},
   "outputs": [
    {
     "name": "stdout",
     "output_type": "stream",
     "text": [
      "请输入摄氏度：43\n",
      "43摄氏度是109.4华氏温度\n"
     ]
    }
   ],
   "source": [
    "c = eval(input('请输入摄氏度：'))\n",
    "f = (9 / 5) * c +32\n",
    "print (str(c)+'摄氏度是'+str(f)+'华氏温度')"
   ]
  },
  {
   "cell_type": "markdown",
   "metadata": {},
   "source": [
    "- 2\n",
    "<img src=\"../Photo/07.png\"></img>"
   ]
  },
  {
   "cell_type": "code",
   "execution_count": 17,
   "metadata": {},
   "outputs": [
    {
     "name": "stdout",
     "output_type": "stream",
     "text": [
      "请输入半径和高5.5,12\n",
      "面积是94.985 体积是1139.82\n"
     ]
    }
   ],
   "source": [
    "radius,length = eval(input('请输入半径和高'))\n",
    "area = radius * radius * 3.14\n",
    "volum = area * length\n",
    "print('面积是'+str(area),'体积是'+str(volum))"
   ]
  },
  {
   "cell_type": "markdown",
   "metadata": {},
   "source": [
    "- 3\n",
    "<img src=\"../Photo/08.png\"></img>"
   ]
  },
  {
   "cell_type": "code",
   "execution_count": 20,
   "metadata": {},
   "outputs": [
    {
     "name": "stdout",
     "output_type": "stream",
     "text": [
      "请输入英尺16.5\n",
      "转换成米数为5.0325\n"
     ]
    },
    {
     "data": {
      "text/plain": [
       "5.03"
      ]
     },
     "execution_count": 20,
     "metadata": {},
     "output_type": "execute_result"
    }
   ],
   "source": [
    "feet = eval(input('请输入英尺'))\n",
    "meters = 3.05e-1*feet\n",
    "print('转换成米数为'+str(meters))\n",
    "round(meters,2)"
   ]
  },
  {
   "cell_type": "markdown",
   "metadata": {},
   "source": [
    "- 4\n",
    "<img src=\"../Photo/10.png\"></img>"
   ]
  },
  {
   "cell_type": "code",
   "execution_count": 29,
   "metadata": {},
   "outputs": [
    {
     "name": "stdout",
     "output_type": "stream",
     "text": [
      "请输入以千克计算的水量：55.5\n",
      "请输入初始温度：3.5\n",
      "请输入最终温度：10.5\n",
      "最终需要能量1625484.0\n"
     ]
    }
   ],
   "source": [
    "M  =eval(input('请输入以千克计算的水量：'))\n",
    "i =eval(input('请输入初始温度：'))\n",
    "f = eval(input('请输入最终温度：'))\n",
    "Q = M * (f - i) * 4184\n",
    "print('最终需要能量'+str(Q))"
   ]
  },
  {
   "cell_type": "markdown",
   "metadata": {},
   "source": [
    "- 5\n",
    "<img src=\"../Photo/11.png\"></img>"
   ]
  },
  {
   "cell_type": "code",
   "execution_count": 41,
   "metadata": {},
   "outputs": [
    {
     "name": "stdout",
     "output_type": "stream",
     "text": [
      "请输入差额和利率1000,3.5\n",
      "利息为2.91667\n"
     ]
    }
   ],
   "source": [
    "差额,利率 =eval(input('请输入差额和利率'))\n",
    "利息 = round(差额 * (利率 /1200),5)\n",
    "print('利息为'+str(利息))"
   ]
  },
  {
   "cell_type": "markdown",
   "metadata": {},
   "source": [
    "- 6\n",
    "<img src=\"../Photo/12.png\"></img>"
   ]
  },
  {
   "cell_type": "code",
   "execution_count": 40,
   "metadata": {},
   "outputs": [
    {
     "name": "stdout",
     "output_type": "stream",
     "text": [
      "请输入初始速度，末速度，时间5.5,50.9,4.5\n",
      "平均加速度为：10.0889\n"
     ]
    }
   ],
   "source": [
    "v0,v1,t =eval(input('请输入初始速度，末速度，时间'))\n",
    "a= round(((v1-v0)/t),4)\n",
    "print('平均加速度为：'+str(a))\n"
   ]
  },
  {
   "cell_type": "markdown",
   "metadata": {},
   "source": [
    "- 7 进阶\n",
    "<img src=\"../Photo/13.png\"></img>"
   ]
  },
  {
   "cell_type": "code",
   "execution_count": 8,
   "metadata": {},
   "outputs": [
    {
     "name": "stdout",
     "output_type": "stream",
     "text": [
      "请输入存款金额100\n",
      "六个月后总额为： 608.81\n"
     ]
    }
   ],
   "source": [
    "money = eval(input('请输入存款金额'))\n",
    "sum = 0\n",
    "i = 0\n",
    "while (i <= 5):\n",
    "    sum = (sum+money)*(1+0.05/12)\n",
    "    i = i+1\n",
    "print('六个月后总额为：',round(sum,2))"
   ]
  },
  {
   "cell_type": "markdown",
   "metadata": {},
   "source": [
    "- 8 进阶\n",
    "<img src=\"../Photo/14.png\"></img>"
   ]
  },
  {
   "cell_type": "code",
   "execution_count": 45,
   "metadata": {},
   "outputs": [
    {
     "name": "stdout",
     "output_type": "stream",
     "text": [
      "请输入一个数字999\n",
      "27\n"
     ]
    }
   ],
   "source": [
    "number =eval(input('请输入一个数字'))\n",
    "gewei = number%10\n",
    "qianliangwei = number//10\n",
    "shiwei = qianliangwei%10\n",
    "baiwei = number//100\n",
    "he = gewei+shiwei+baiwei\n",
    "print(he)"
   ]
  },
  {
   "cell_type": "code",
   "execution_count": null,
   "metadata": {},
   "outputs": [],
   "source": []
  }
 ],
 "metadata": {
  "kernelspec": {
   "display_name": "Python 3",
   "language": "python",
   "name": "python3"
  },
  "language_info": {
   "codemirror_mode": {
    "name": "ipython",
    "version": 3
   },
   "file_extension": ".py",
   "mimetype": "text/x-python",
   "name": "python",
   "nbconvert_exporter": "python",
   "pygments_lexer": "ipython3",
   "version": "3.6.4"
  }
 },
 "nbformat": 4,
 "nbformat_minor": 2
}
