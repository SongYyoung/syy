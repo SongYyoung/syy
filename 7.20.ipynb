{
 "cells": [
  {
   "cell_type": "markdown",
   "metadata": {},
   "source": [
    "# 函数\n",
    "\n",
    "- 函数可以用来定义可重复代码，组织和简化\n",
    "- 一般来说一个函数在实际开发中为一个小功能\n",
    "- 一个类为一个大功能\n",
    "- 同样函数的长度不要超过一屏"
   ]
  },
  {
   "cell_type": "markdown",
   "metadata": {},
   "source": [
    "## 定义一个函数\n",
    "\n",
    "def function_name(list of parameters):\n",
    "    \n",
    "    do something\n",
    "![](../Photo/69.png)\n",
    "- 以前使用的random 或者range 或者print.. 其实都是函数或者类"
   ]
  },
  {
   "cell_type": "code",
   "execution_count": null,
   "metadata": {},
   "outputs": [],
   "source": [
    "fun_name()   #代表函数调用"
   ]
  },
  {
   "cell_type": "code",
   "execution_count": 2,
   "metadata": {},
   "outputs": [],
   "source": [
    "def jiou():\n",
    "    num = eval(input('>>'))\n",
    "    if num % 2 == 0:\n",
    "        print('偶数')\n",
    "    else:\n",
    "        print('奇数')\n",
    "\n"
   ]
  },
  {
   "cell_type": "code",
   "execution_count": 3,
   "metadata": {},
   "outputs": [
    {
     "name": "stdout",
     "output_type": "stream",
     "text": [
      ">>12\n",
      "偶数\n"
     ]
    }
   ],
   "source": [
    "jiou()"
   ]
  },
  {
   "cell_type": "code",
   "execution_count": 1,
   "metadata": {},
   "outputs": [],
   "source": [
    "def sushu():\n",
    "    i = 1\n",
    "    for i in range(2,51):\n",
    "        for j in range(2,i):\n",
    "            if i % j ==0:\n",
    "                break\n",
    "            print(i)"
   ]
  },
  {
   "cell_type": "code",
   "execution_count": null,
   "metadata": {},
   "outputs": [],
   "source": []
  },
  {
   "cell_type": "code",
   "execution_count": 10,
   "metadata": {},
   "outputs": [],
   "source": [
    "def panduan():\n",
    "    \n",
    "    num = int(input('请输入一个自然数: ') ) \n",
    "    factor = num /2 \n",
    "    while factor > 1:\n",
    "        if num % factor == 0:\n",
    "            print (num, '具有因子', factor, '所以它不是素数')\n",
    "            break   #跳出循环，包括 else 子句\n",
    "        factor = factor - 1\n",
    "    else:\n",
    "        print (num, '是素数')"
   ]
  },
  {
   "cell_type": "code",
   "execution_count": 12,
   "metadata": {},
   "outputs": [
    {
     "name": "stdout",
     "output_type": "stream",
     "text": [
      "请输入一个自然数: 2\n",
      "2 是素数\n"
     ]
    }
   ],
   "source": [
    "panduan()"
   ]
  },
  {
   "cell_type": "code",
   "execution_count": 1,
   "metadata": {},
   "outputs": [],
   "source": [
    "def fun1():\n",
    "    num_ = eval(input(''))\n",
    "    return num_      #不加return返回空"
   ]
  },
  {
   "cell_type": "code",
   "execution_count": 2,
   "metadata": {},
   "outputs": [
    {
     "name": "stdout",
     "output_type": "stream",
     "text": [
      "9\n",
      "None\n"
     ]
    }
   ],
   "source": [
    "a = fun1()\n",
    "print(a)"
   ]
  },
  {
   "cell_type": "code",
   "execution_count": null,
   "metadata": {},
   "outputs": [],
   "source": [
    "def fun1():\n",
    "    num_ = eval(input('>>'))\n",
    "    return num_ # 定不定义return，python中都有返回值  定义了return返回的就是输入的值，不定义返回none"
   ]
  },
  {
   "cell_type": "markdown",
   "metadata": {},
   "source": [
    "## 调用一个函数\n",
    "- functionName()\n",
    "- \"()\" 就代表调用"
   ]
  },
  {
   "cell_type": "markdown",
   "metadata": {},
   "source": [
    "![](../Photo/70.png)"
   ]
  },
  {
   "cell_type": "markdown",
   "metadata": {},
   "source": [
    "## 带返回值和不带返回值的函数\n",
    "- return 返回的内容\n",
    "- return 返回多个值\n",
    "- 一般情况下，在多个函数协同完成一个功能的时候，那么将会有返回值"
   ]
  },
  {
   "cell_type": "markdown",
   "metadata": {},
   "source": [
    "![](../Photo/71.png)\n",
    "\n",
    "- 当然也可以自定义返回None"
   ]
  },
  {
   "cell_type": "markdown",
   "metadata": {},
   "source": [
    "## EP：\n",
    "![](../Photo/72.png)"
   ]
  },
  {
   "cell_type": "code",
   "execution_count": null,
   "metadata": {},
   "outputs": [],
   "source": [
    "import os\n",
    "def kuajiang(name):\n",
    "    os.system('say {}你真是一个小机灵鬼'.format(name))"
   ]
  },
  {
   "cell_type": "code",
   "execution_count": null,
   "metadata": {},
   "outputs": [],
   "source": [
    "kuajiang('星期二')   #位置参数，不带参数名传递方式"
   ]
  },
  {
   "cell_type": "code",
   "execution_count": null,
   "metadata": {},
   "outputs": [],
   "source": [
    "kuajiang(name = '星期三')   #带参数名传递方式"
   ]
  },
  {
   "cell_type": "code",
   "execution_count": 7,
   "metadata": {},
   "outputs": [],
   "source": [
    "def a (b):\n",
    "    print(b**2)"
   ]
  },
  {
   "cell_type": "code",
   "execution_count": 9,
   "metadata": {},
   "outputs": [
    {
     "name": "stdout",
     "output_type": "stream",
     "text": [
      "10000\n"
     ]
    }
   ],
   "source": [
    "a(100)"
   ]
  },
  {
   "cell_type": "code",
   "execution_count": 3,
   "metadata": {},
   "outputs": [],
   "source": [
    "def y (x):\n",
    "    return x ** 2"
   ]
  },
  {
   "cell_type": "code",
   "execution_count": 5,
   "metadata": {
    "scrolled": true
   },
   "outputs": [
    {
     "name": "stdout",
     "output_type": "stream",
     "text": [
      "10000\n"
     ]
    }
   ],
   "source": [
    "y_ = y(100)\n",
    "print(y_)"
   ]
  },
  {
   "cell_type": "code",
   "execution_count": 21,
   "metadata": {},
   "outputs": [],
   "source": [
    "def input_ ():\n",
    "    num = eval(input('<<'))\n",
    "    res3 = san(num)\n",
    "    res2 = liang(num)\n",
    "    print(res3 - res2)\n",
    "def san(num):\n",
    "    return num ** 3\n",
    "def liang(num):\n",
    "    return num ** 2"
   ]
  },
  {
   "cell_type": "code",
   "execution_count": 22,
   "metadata": {},
   "outputs": [
    {
     "name": "stdout",
     "output_type": "stream",
     "text": [
      "<<10\n",
      "900\n"
     ]
    }
   ],
   "source": [
    "input_ ()"
   ]
  },
  {
   "cell_type": "code",
   "execution_count": 36,
   "metadata": {},
   "outputs": [],
   "source": [
    "import os\n",
    "def kuajiang1(name1,name2,name3='小红'):                #参数数含有默认值，统一放到最后，不能交叉放\n",
    "    os.system('say {}{}{}你们都是渣渣'.format(name1,name2,name3))"
   ]
  },
  {
   "cell_type": "code",
   "execution_count": 37,
   "metadata": {},
   "outputs": [],
   "source": [
    "kuajiang1(name1='小明',name2='小蓝')"
   ]
  },
  {
   "cell_type": "code",
   "execution_count": 56,
   "metadata": {},
   "outputs": [],
   "source": [
    "account = '123123@qq.com'\n",
    "password = 'aaaaaa'\n",
    "is_ok_and_y = False"
   ]
  },
  {
   "cell_type": "code",
   "execution_count": 57,
   "metadata": {},
   "outputs": [],
   "source": [
    "def login(account_login,password_login):\n",
    "    if account_login == account and password_login == password:\n",
    "        print('登陆成功')\n",
    "    else:\n",
    "        print('账号或密码错误')  "
   ]
  },
  {
   "cell_type": "code",
   "execution_count": 59,
   "metadata": {},
   "outputs": [
    {
     "name": "stdout",
     "output_type": "stream",
     "text": [
      "登陆成功\n"
     ]
    }
   ],
   "source": [
    "login(account_login='123123@qq.com',password_login='aaaaaa')"
   ]
  },
  {
   "cell_type": "code",
   "execution_count": 60,
   "metadata": {},
   "outputs": [],
   "source": [
    "def qidong():\n",
    "    global is_ok_and_y\n",
    "    if is_ok_and_y == False:\n",
    "        print('是否七天免登录')\n",
    "        res = input('>>')\n",
    "        account_login = input('请输入账号')\n",
    "        password_login = input('请输入密码')\n",
    "        if res == 'y':\n",
    "            login(account_login,password_login)\n",
    "            is_ok_and_y = True\n",
    "        else:\n",
    "            login(account_login,password_login)\n",
    "    else:\n",
    "        print('登陆成功')"
   ]
  },
  {
   "cell_type": "code",
   "execution_count": 63,
   "metadata": {},
   "outputs": [
    {
     "name": "stdout",
     "output_type": "stream",
     "text": [
      "登陆成功\n"
     ]
    }
   ],
   "source": [
    "qidong()"
   ]
  },
  {
   "cell_type": "markdown",
   "metadata": {},
   "source": [
    "## 类型和关键字参数\n",
    "- 普通参数\n",
    "- 多个参数\n",
    "- 默认值参数\n",
    "- 不定长参数"
   ]
  },
  {
   "cell_type": "markdown",
   "metadata": {},
   "source": [
    "## 普通参数"
   ]
  },
  {
   "cell_type": "markdown",
   "metadata": {},
   "source": [
    "## 多个参数"
   ]
  },
  {
   "cell_type": "markdown",
   "metadata": {},
   "source": [
    "## 默认值参数"
   ]
  },
  {
   "cell_type": "markdown",
   "metadata": {},
   "source": [
    "## 强制命名"
   ]
  },
  {
   "cell_type": "code",
   "execution_count": null,
   "metadata": {},
   "outputs": [],
   "source": [
    "import os\n",
    "def kuajiang1(*,name1,name2,name3='小红'):                #参数数含有默认值，统一放到最后，不能交叉放\n",
    "    os.system('say {}{}{}你们都是渣渣'.format(name1,name2,name3))"
   ]
  },
  {
   "cell_type": "code",
   "execution_count": null,
   "metadata": {},
   "outputs": [],
   "source": [
    "# 用 * 表示强制命名"
   ]
  },
  {
   "cell_type": "markdown",
   "metadata": {},
   "source": [
    "## 不定长参数\n",
    "- \\*args\n",
    "> - 不定长，来多少装多少，不装也是可以的\n",
    "  - 返回的数据类型是元组\n",
    "  - args 名字是可以修改的，只是我们约定俗成的是args\n",
    "- \\**kwargs \n",
    "> - 返回的字典\n",
    "  - 输入的一定要是表达式（键值对）\n",
    "- name,\\*args,name2,\\**kwargs  使用参数名"
   ]
  },
  {
   "cell_type": "code",
   "execution_count": null,
   "metadata": {},
   "outputs": [],
   "source": []
  },
  {
   "cell_type": "code",
   "execution_count": null,
   "metadata": {},
   "outputs": [],
   "source": [
    "import os\n",
    "def kuajiang1(*args):                #参数数含有默认值，统一放到最后，不能交叉放\n",
    "    os.system('say {}{}{}你们都是渣渣'.format(name1,name2,name3))"
   ]
  },
  {
   "cell_type": "code",
   "execution_count": null,
   "metadata": {},
   "outputs": [],
   "source": [
    "test(a=1,b=2,c=3) #返回出来的是一个字典"
   ]
  },
  {
   "cell_type": "code",
   "execution_count": null,
   "metadata": {},
   "outputs": [],
   "source": [
    "def test (*args,**kwargs):\n",
    "    print(args) \n",
    "    print(kwargs)"
   ]
  },
  {
   "cell_type": "code",
   "execution_count": null,
   "metadata": {},
   "outputs": [],
   "source": [
    "test(1,2,3,a=4,b=5,c=6)"
   ]
  },
  {
   "cell_type": "markdown",
   "metadata": {},
   "source": [
    "## 变量的作用域\n",
    "- 局部变量 local\n",
    "- 全局变量 global\n",
    "- globals 函数返回一个全局变量的字典，包括所有导入的变量\n",
    "- locals() 函数会以字典类型返回当前位置的全部局部变量。"
   ]
  },
  {
   "cell_type": "code",
   "execution_count": 67,
   "metadata": {},
   "outputs": [],
   "source": [
    "a = 100\n",
    "b = 100\n",
    "c = True\n",
    "def test2():\n",
    "    global a,b,c\n",
    "    a = 1000\n",
    "    b = 1000\n",
    "    c = False\n",
    "    print(a,b,c)"
   ]
  },
  {
   "cell_type": "code",
   "execution_count": 68,
   "metadata": {
    "scrolled": true
   },
   "outputs": [
    {
     "name": "stdout",
     "output_type": "stream",
     "text": [
      "1000 1000 False\n",
      "1000 1000 False\n"
     ]
    }
   ],
   "source": [
    "test2()\n",
    "print(a,b,c)"
   ]
  },
  {
   "cell_type": "code",
   "execution_count": null,
   "metadata": {},
   "outputs": [],
   "source": [
    "locals()"
   ]
  },
  {
   "cell_type": "markdown",
   "metadata": {},
   "source": [
    "## 注意：\n",
    "- global ：在进行赋值操作的时候需要声明\n",
    "- 官方解释：This is because when you make an assignment to a variable in a scope, that variable becomes local to that scope and shadows any similarly named variable in the outer scope.\n",
    "- ![](../Photo/73.png)"
   ]
  },
  {
   "cell_type": "markdown",
   "metadata": {},
   "source": [
    "# Homework\n",
    "- 1\n",
    "![](../Photo/74.png)"
   ]
  },
  {
   "cell_type": "code",
   "execution_count": 21,
   "metadata": {},
   "outputs": [],
   "source": [
    "def getPentagonalNumber(n):\n",
    "    count = 0\n",
    "    for i in range(1,101):\n",
    "        n = int((i * ( 3 * i - 1) )/ 2 )\n",
    "        count += 1 \n",
    "        if n < 10000:  \n",
    "            print(n,'',end=' ')\n",
    "            if count%10 ==0: \n",
    "                    print()        "
   ]
  },
  {
   "cell_type": "code",
   "execution_count": 24,
   "metadata": {},
   "outputs": [
    {
     "name": "stdout",
     "output_type": "stream",
     "text": [
      "1  5  12  22  35  51  70  92  117  145  \n",
      "176  210  247  287  330  376  425  477  532  590  \n",
      "651  715  782  852  925  1001  1080  1162  1247  1335  \n",
      "1426  1520  1617  1717  1820  1926  2035  2147  2262  2380  \n",
      "2501  2625  2752  2882  3015  3151  3290  3432  3577  3725  \n",
      "3876  4030  4187  4347  4510  4676  4845  5017  5192  5370  \n",
      "5551  5735  5922  6112  6305  6501  6700  6902  7107  7315  \n",
      "7526  7740  7957  8177  8400  8626  8855  9087  9322  9560  \n",
      "9801  "
     ]
    }
   ],
   "source": [
    "getPentagonalNumber(10000)"
   ]
  },
  {
   "cell_type": "markdown",
   "metadata": {},
   "source": [
    "- 2 \n",
    "![](../Photo/75.png)"
   ]
  },
  {
   "cell_type": "code",
   "execution_count": 27,
   "metadata": {},
   "outputs": [
    {
     "name": "stdout",
     "output_type": "stream",
     "text": [
      "请输入一个数字：121\n",
      "和为4\n"
     ]
    }
   ],
   "source": [
    "n = eval(input('请输入一个数字：'))\n",
    "def sumDigits(n):\n",
    "    sum_ = 0\n",
    "    while n // 10 !=0:\n",
    "        sum_ +=(n%10)\n",
    "        n = n // 10\n",
    "        continue\n",
    "    print('和为'+str(sum_+n))\n",
    "sumDigits(n)   "
   ]
  },
  {
   "cell_type": "markdown",
   "metadata": {},
   "source": [
    "- 3\n",
    "![](../Photo/76.png)"
   ]
  },
  {
   "cell_type": "code",
   "execution_count": 29,
   "metadata": {},
   "outputs": [],
   "source": [
    "def displaySortedNumbers(num1,num2,num3):\n",
    "    if num1<num2 and num1<num3:\n",
    "        print(num1,end=' ')\n",
    "        if num2<num3:\n",
    "            print(num2,num3)\n",
    "        else:\n",
    "            print(num3,num2)\n",
    "    elif num2<num3:\n",
    "        print(num2,num3)\n",
    "        if num1<num3:\n",
    "            print(num1,num3)\n",
    "        else:\n",
    "            print(num3,num1)\n",
    "    else:\n",
    "        print(num3,end=' ')\n",
    "        if num1<num2:\n",
    "            print(num1,num2)\n",
    "        else:\n",
    "            print(num2,num1)"
   ]
  },
  {
   "cell_type": "code",
   "execution_count": 31,
   "metadata": {},
   "outputs": [
    {
     "name": "stdout",
     "output_type": "stream",
     "text": [
      "3.6 25 55\n"
     ]
    }
   ],
   "source": [
    "displaySortedNumbers(25,55,3.6)"
   ]
  },
  {
   "cell_type": "markdown",
   "metadata": {},
   "source": [
    "- 4\n",
    "![](../Photo/77.png)"
   ]
  },
  {
   "cell_type": "markdown",
   "metadata": {},
   "source": [
    "- 5\n",
    "![](../Photo/78.png)"
   ]
  },
  {
   "cell_type": "markdown",
   "metadata": {},
   "source": [
    "- 6\n",
    "![](../Photo/79.png)"
   ]
  },
  {
   "cell_type": "code",
   "execution_count": 36,
   "metadata": {},
   "outputs": [],
   "source": [
    "def numberOfDaysInAYear(year):\n",
    "    if (year % 4 == 0 ,year % 100 != 0) or (year % 400 == 0):\n",
    "        print('366天',end=' ')\n",
    "    else:\n",
    "        print('365天',end=' ')\n",
    "        for i in range(2010,2020):\n",
    "            print(year)"
   ]
  },
  {
   "cell_type": "code",
   "execution_count": 39,
   "metadata": {},
   "outputs": [
    {
     "name": "stdout",
     "output_type": "stream",
     "text": [
      "366天 "
     ]
    }
   ],
   "source": [
    "numberOfDaysInAYear(2010)"
   ]
  },
  {
   "cell_type": "markdown",
   "metadata": {},
   "source": [
    "- 7\n",
    "![](../Photo/80.png)"
   ]
  },
  {
   "cell_type": "code",
   "execution_count": 48,
   "metadata": {},
   "outputs": [],
   "source": [
    "import math\n",
    "def distance(x1,y1,x2,y2):\n",
    "    n = math.sqrt(((x2-x1)**2) + ((y2-y1)**2))\n",
    "    print(n)"
   ]
  },
  {
   "cell_type": "code",
   "execution_count": 51,
   "metadata": {},
   "outputs": [
    {
     "name": "stdout",
     "output_type": "stream",
     "text": [
      "0.0\n"
     ]
    }
   ],
   "source": [
    "distance(2,2,2,2)"
   ]
  },
  {
   "cell_type": "markdown",
   "metadata": {},
   "source": [
    "- 8\n",
    "![](../Photo/81.png)"
   ]
  },
  {
   "cell_type": "markdown",
   "metadata": {},
   "source": [
    "- 9\n",
    "![](../Photo/82.png)\n",
    "![](../Photo/83.png)"
   ]
  },
  {
   "cell_type": "markdown",
   "metadata": {},
   "source": [
    "- 10\n",
    "![](../Photo/84.png)"
   ]
  },
  {
   "cell_type": "markdown",
   "metadata": {},
   "source": [
    "- 11 \n",
    "### 去网上寻找如何用Python代码发送邮件"
   ]
  }
 ],
 "metadata": {
  "kernelspec": {
   "display_name": "Python 3",
   "language": "python",
   "name": "python3"
  },
  "language_info": {
   "codemirror_mode": {
    "name": "ipython",
    "version": 3
   },
   "file_extension": ".py",
   "mimetype": "text/x-python",
   "name": "python",
   "nbconvert_exporter": "python",
   "pygments_lexer": "ipython3",
   "version": "3.6.4"
  }
 },
 "nbformat": 4,
 "nbformat_minor": 2
}
