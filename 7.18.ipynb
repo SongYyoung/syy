{
 "cells": [
  {
   "cell_type": "markdown",
   "metadata": {},
   "source": [
    "# 选择\n",
    "## 布尔类型、数值和表达式\n",
    "![](../Photo/33.png)\n",
    "- 注意：比较运算符的相等是两个等到，一个等到代表赋值\n",
    "- 在Python中可以用整型0来代表False，其他数字来代表True\n",
    "- 后面还会讲到 is 在判断语句中的用发"
   ]
  },
  {
   "cell_type": "code",
   "execution_count": 1,
   "metadata": {},
   "outputs": [
    {
     "data": {
      "text/plain": [
       "True"
      ]
     },
     "execution_count": 1,
     "metadata": {},
     "output_type": "execute_result"
    }
   ],
   "source": [
    "10 == 10"
   ]
  },
  {
   "cell_type": "code",
   "execution_count": 2,
   "metadata": {},
   "outputs": [
    {
     "data": {
      "text/plain": [
       "True"
      ]
     },
     "execution_count": 2,
     "metadata": {},
     "output_type": "execute_result"
    }
   ],
   "source": [
    "0 == False"
   ]
  },
  {
   "cell_type": "code",
   "execution_count": 3,
   "metadata": {},
   "outputs": [
    {
     "data": {
      "text/plain": [
       "True"
      ]
     },
     "execution_count": 3,
     "metadata": {},
     "output_type": "execute_result"
    }
   ],
   "source": [
    "1 == True"
   ]
  },
  {
   "cell_type": "markdown",
   "metadata": {},
   "source": [
    "## 字符串的比较使用ASCII值"
   ]
  },
  {
   "cell_type": "code",
   "execution_count": 9,
   "metadata": {},
   "outputs": [
    {
     "name": "stdout",
     "output_type": "stream",
     "text": [
      ">>30\n",
      "D\n"
     ]
    }
   ],
   "source": [
    "number = eval(input('>>'))\n",
    "if number >=90:\n",
    "    print('A')\n",
    "elif 80 < number <=90:\n",
    "    print('B')\n",
    "elif 70 < number <=80:\n",
    "    print('B')\n",
    "elif number < 70:\n",
    "    print('D')"
   ]
  },
  {
   "cell_type": "markdown",
   "metadata": {},
   "source": [
    ";## Markdown \n",
    "- https://github.com/younghz/Markdown"
   ]
  },
  {
   "cell_type": "markdown",
   "metadata": {},
   "source": [
    "## EP:\n",
    "- <img src=\"../Photo/34.png\"></img>\n",
    "- 输入一个数字，判断其实奇数还是偶数"
   ]
  },
  {
   "cell_type": "code",
   "execution_count": 11,
   "metadata": {},
   "outputs": [],
   "source": [
    "i = int(True)"
   ]
  },
  {
   "cell_type": "code",
   "execution_count": 13,
   "metadata": {},
   "outputs": [],
   "source": [
    "j = int(False)"
   ]
  },
  {
   "cell_type": "code",
   "execution_count": 14,
   "metadata": {},
   "outputs": [],
   "source": [
    "b1 = bool(4)"
   ]
  },
  {
   "cell_type": "markdown",
   "metadata": {},
   "source": [
    "## 产生随机数字\n",
    "- 函数random.randint(a,b) 可以用来产生一个a和b之间且包括a和b的随机整数"
   ]
  },
  {
   "cell_type": "code",
   "execution_count": 32,
   "metadata": {},
   "outputs": [
    {
     "name": "stdout",
     "output_type": "stream",
     "text": [
      ">>4\n",
      "太大了\n",
      ">>3\n",
      "太大了\n",
      ">>2\n",
      "太大了\n",
      ">>1\n",
      "对\n"
     ]
    }
   ],
   "source": [
    "#产生一个随机数，输入，如果输入的数大于随机数，太大，否则太小\n",
    "#一直输入，直到满意\n",
    "\n",
    "import random\n",
    "num = random.randint(1,5)\n",
    "while True:\n",
    "    number = eval(input('>>'))\n",
    "    if number == num:\n",
    "        print('对')\n",
    "        break\n",
    "    elif number > num:\n",
    "        print('太大了')\n",
    "    elif number < num:\n",
    "        print('太小了')"
   ]
  },
  {
   "cell_type": "markdown",
   "metadata": {},
   "source": [
    "##  其他random方法\n",
    "- random.random 返回0.0到1.0之间前闭后开区间的随机浮点\n",
    "- random.randrange(a,b) 前闭后开"
   ]
  },
  {
   "cell_type": "code",
   "execution_count": null,
   "metadata": {},
   "outputs": [],
   "source": []
  },
  {
   "cell_type": "markdown",
   "metadata": {},
   "source": [
    "## EP：\n",
    "- 产生两个随机整数number1和number2，然后显示给用户，使用户输入数字的和，并判定其是否正确\n",
    "- 进阶:写一个随机序号点名程序"
   ]
  },
  {
   "cell_type": "code",
   "execution_count": null,
   "metadata": {},
   "outputs": [
    {
     "name": "stdout",
     "output_type": "stream",
     "text": [
      "1 8\n",
      ">>9\n",
      "nice\n"
     ]
    }
   ],
   "source": [
    "import random\n",
    "num1 = random.randint(1,3)  #2\n",
    "num2 = random.randint(6,9)  #78\n",
    "a = num1+num2\n",
    "print(num1,num2)\n",
    "while True:\n",
    "    number = eval(input('>>'))\n",
    "    if number == a :\n",
    "        print('nice')\n",
    "        break\n",
    "    else:\n",
    "        print('low')"
   ]
  },
  {
   "cell_type": "code",
   "execution_count": null,
   "metadata": {},
   "outputs": [],
   "source": []
  },
  {
   "cell_type": "code",
   "execution_count": null,
   "metadata": {},
   "outputs": [],
   "source": [
    "import random\n",
    " "
   ]
  },
  {
   "cell_type": "markdown",
   "metadata": {},
   "source": [
    "## if语句\n",
    "- 如果条件正确就执行一个单向if语句，亦即当条件为真的时候才执行if内部的语句\n",
    "- Python有很多选择语句:\n",
    "> - 单向if \n",
    "  - 双向if-else\n",
    "  - 嵌套if\n",
    "  - 多向if-elif-else\n",
    "  \n",
    "- 注意：当语句含有子语句的时候，那么一定至少要有一个缩进，也就是说如果有儿子存在，那么一定要缩进\n",
    "- 切记不可tab键和space混用，单用tab 或者 space\n",
    "- 当你输出的结果是无论if是否为真时都需要显示时，语句应该与if对齐"
   ]
  },
  {
   "cell_type": "code",
   "execution_count": 3,
   "metadata": {},
   "outputs": [
    {
     "name": "stdout",
     "output_type": "stream",
     "text": [
      "年龄为：23\n",
      "长相为:不好\n",
      "no\n"
     ]
    }
   ],
   "source": [
    "age = eval(input('年龄为：'))\n",
    "if age <= 30:\n",
    "    face = input('长相为:')\n",
    "    if face == '好':\n",
    "        money = eval(input('收入为：'))\n",
    "        if money >=8000 :\n",
    "            work = input('是否公务员：')\n",
    "            if work == '是':\n",
    "                print('好吧')\n",
    "            else:\n",
    "                print('不可以')\n",
    "        else:\n",
    "            print('不行，太低了')\n",
    "    else:\n",
    "        print('no')\n",
    "else:\n",
    "    print('too old') "
   ]
  },
  {
   "cell_type": "markdown",
   "metadata": {},
   "source": [
    "## EP：\n",
    "- 用户输入一个数字，判断其实奇数还是偶数\n",
    "- 进阶：可以查看下4.5实例研究猜生日"
   ]
  },
  {
   "cell_type": "code",
   "execution_count": 7,
   "metadata": {},
   "outputs": [
    {
     "name": "stdout",
     "output_type": "stream",
     "text": [
      "请输入一个数字：64\n",
      "该数为偶数\n"
     ]
    }
   ],
   "source": [
    "number = eval(input('请输入一个数字：'))\n",
    "if (number % 2) == 0:\n",
    "    print('该数为偶数')\n",
    "else:\n",
    "    print('该数为奇数')"
   ]
  },
  {
   "cell_type": "markdown",
   "metadata": {},
   "source": [
    "## 双向if-else 语句\n",
    "- 如果条件为真，那么走if内部语句，否则走else内部语句"
   ]
  },
  {
   "cell_type": "markdown",
   "metadata": {},
   "source": [
    "## EP：\n",
    "- 产生两个随机整数number1和number2，然后显示给用户，使用户输入数字，并判定其是否正确,如果正确打印“you‘re correct”，否则打印正确错误"
   ]
  },
  {
   "cell_type": "markdown",
   "metadata": {},
   "source": [
    "## 嵌套if 和多向if-elif-else\n",
    "![](../Photo/35.png)"
   ]
  },
  {
   "cell_type": "markdown",
   "metadata": {},
   "source": [
    "## EP：\n",
    "- 提示用户输入一个年份，然后显示表示这一年的动物\n",
    "![](../Photo/36.png)\n",
    "- 计算身体质量指数的程序\n",
    "- BMI = 以千克为单位的体重除以以米为单位的身高\n",
    "![](../Photo/37.png)"
   ]
  },
  {
   "cell_type": "code",
   "execution_count": null,
   "metadata": {},
   "outputs": [],
   "source": []
  },
  {
   "cell_type": "code",
   "execution_count": 10,
   "metadata": {},
   "outputs": [
    {
     "name": "stdout",
     "output_type": "stream",
     "text": [
      "请输入年份：2000\n",
      "龙\n"
     ]
    }
   ],
   "source": [
    "year = eval(input('请输入年份：'))\n",
    "if year % 12 == 0:\n",
    "    print('猴')\n",
    "elif year % 12 == 1:\n",
    "    print('鸡')\n",
    "elif year % 12 == 2:\n",
    "    print('狗')\n",
    "elif year % 12 == 3:\n",
    "    print('猪')\n",
    "elif year % 12 == 4:\n",
    "    print('鼠')\n",
    "elif year % 12 == 5:\n",
    "    print('牛')\n",
    "elif year % 12 == 6:\n",
    "    print('虎')\n",
    "elif year % 12 == 7:\n",
    "    print('兔')\n",
    "elif year % 12 == 8:\n",
    "    print('龙')\n",
    "elif year % 12 == 9:\n",
    "    print('蛇')\n",
    "elif year % 12 == 10:\n",
    "    print('马')\n",
    "elif year % 12 == 11:\n",
    "    print('羊')"
   ]
  },
  {
   "cell_type": "code",
   "execution_count": 4,
   "metadata": {},
   "outputs": [
    {
     "name": "stdout",
     "output_type": "stream",
     "text": [
      "请输入身高体重：65,1.7\n",
      "标准\n"
     ]
    }
   ],
   "source": [
    "tizhong,shengao = eval(input('请输入身高体重：'))\n",
    "BMI =(tizhong) / (shengao**2)   #BMI = 以千克为单位的体重除以以米为单位的身高\n",
    "if (BMI <18.5):\n",
    "    print('超轻')\n",
    "elif (18.5<=BMI<25):\n",
    "    print('标准')\n",
    "elif (25<=BMI<30):\n",
    "    print('超重')\n",
    "elif (BMI>=30):\n",
    "    print('痴肥')\n",
    " "
   ]
  },
  {
   "cell_type": "markdown",
   "metadata": {},
   "source": [
    "## 逻辑运算符\n",
    "![](../Photo/38.png)"
   ]
  },
  {
   "cell_type": "markdown",
   "metadata": {},
   "source": [
    "![](../Photo/39.png)\n",
    "![](../Photo/40.png)"
   ]
  },
  {
   "cell_type": "code",
   "execution_count": null,
   "metadata": {},
   "outputs": [],
   "source": [
    "if ('长得高'== res) and ('长得帅'== res):\n",
    "    pass"
   ]
  },
  {
   "cell_type": "markdown",
   "metadata": {},
   "source": [
    "## EP：\n",
    "- 判定闰年：一个年份如果能被4整除但不能被100整除，或者能被400整除，那么这个年份就是闰年\n",
    "- 提示用户输入一个年份，并返回是否是闰年\n",
    "- 提示用户输入一个数字，判断其是否为水仙花数"
   ]
  },
  {
   "cell_type": "code",
   "execution_count": 39,
   "metadata": {},
   "outputs": [
    {
     "name": "stdout",
     "output_type": "stream",
     "text": [
      "请输入年份：2008\n",
      "是闰年\n"
     ]
    }
   ],
   "source": [
    "year = eval(input('请输入年份：'))\n",
    "if (year % 4 == 0) and (year % 100!= 0 ) or (year % 400 == 0):\n",
    "    print('是闰年')\n",
    "else:\n",
    "      print('非闰年')"
   ]
  },
  {
   "cell_type": "code",
   "execution_count": null,
   "metadata": {},
   "outputs": [],
   "source": [
    "   num="
   ]
  },
  {
   "cell_type": "code",
   "execution_count": 5,
   "metadata": {},
   "outputs": [
    {
     "name": "stdout",
     "output_type": "stream",
     "text": [
      "请输入一个数字153\n",
      "是水仙花数\n"
     ]
    }
   ],
   "source": [
    "num = eval(input('请输入一个数字'))\n",
    "gewei = num % 10\n",
    "shi = num//10%10\n",
    "bai = num//100\n",
    "if (bai**3+shi**3+gewei**3)==num:\n",
    "           print('是水仙花数')\n",
    "else:\n",
    "           print('不是水仙花数')"
   ]
  },
  {
   "cell_type": "markdown",
   "metadata": {},
   "source": [
    "## 实例研究：彩票\n",
    "![](../Photo/41.png)"
   ]
  },
  {
   "cell_type": "code",
   "execution_count": 15,
   "metadata": {},
   "outputs": [
    {
     "name": "stdout",
     "output_type": "stream",
     "text": [
      "43\n",
      "请输入一个两位数的数字：33\n",
      "三等奖\n"
     ]
    }
   ],
   "source": [
    "import random\n",
    "random_1 = random.randint(1,5)\n",
    "random_2 = random.randint(1,5)\n",
    "random_= str(random_1) +str(random_2)\n",
    "print(random_)\n",
    "num = (input('请输入一个两位数的数字：'))\n",
    "if (num == random_):\n",
    "    print('一等奖')\n",
    "elif num[0]== random_[1] and num[1] == random_[0]:\n",
    "    print('二等奖')\n",
    "elif (num[0] == random_[1]) or (num[1] == random_[0]) or (num[0] == random_[0]) or (num[1] == random_[1]):\n",
    "    print('三等奖')"
   ]
  },
  {
   "cell_type": "markdown",
   "metadata": {},
   "source": [
    "# Homework\n",
    "- 1\n",
    "![](../Photo/42.png)"
   ]
  },
  {
   "cell_type": "code",
   "execution_count": 41,
   "metadata": {},
   "outputs": [
    {
     "name": "stdout",
     "output_type": "stream",
     "text": [
      "请输入a,b,c：1,3,1\n",
      "-0.3819660112501051 -2.618033988749895\n"
     ]
    }
   ],
   "source": [
    "import math\n",
    "a,b,c = eval(input('请输入a,b,c：'))\n",
    "x = (b**2)-(4*a*c)\n",
    "if (x>0):\n",
    "    r1 = ((-1*b)+math.sqrt(x))/(2*a)\n",
    "    r2 = ((-1*b)-math.sqrt(x))/(2*a)\n",
    "    print(r1,r2)\n",
    "elif (x == 0):\n",
    "    r1 = ((-1*b)+math.sqrt(x))/(2*a)\n",
    "    r2 = ((-1*b)-math.sqrt(x))/(2*a)\n",
    "    print(str(r1))\n",
    "elif (x<0):\n",
    "    print('无根')"
   ]
  },
  {
   "cell_type": "markdown",
   "metadata": {},
   "source": [
    "- 2\n",
    "![](../Photo/43.png)"
   ]
  },
  {
   "cell_type": "code",
   "execution_count": 2,
   "metadata": {},
   "outputs": [
    {
     "name": "stdout",
     "output_type": "stream",
     "text": [
      "20 97\n",
      "117\n",
      "输入数字之和：117\n",
      "真\n"
     ]
    }
   ],
   "source": [
    "import random\n",
    "random_1 = random.randrange(0,100)\n",
    "random_2 = random.randrange(0,100)\n",
    "random_ = random_1+random_2\n",
    "print(random_1,random_2)\n",
    "print(random_)\n",
    "num = eval(input('输入数字之和：'))\n",
    "if (num == random_):\n",
    "    print('真')\n",
    "else:\n",
    "    print('假')"
   ]
  },
  {
   "cell_type": "markdown",
   "metadata": {},
   "source": [
    "- 3\n",
    "![](../Photo/44.png)"
   ]
  },
  {
   "cell_type": "code",
   "execution_count": 8,
   "metadata": {},
   "outputs": [
    {
     "name": "stdout",
     "output_type": "stream",
     "text": [
      "请输入今天的数字：0\n",
      "请输入未来的天数：2\n",
      "今天是周日\n",
      "未来这天是星期二\n"
     ]
    }
   ],
   "source": [
    "today = eval(input('请输入今天的数字：'))\n",
    "future = eval(input('请输入未来的天数：'))\n",
    "a = today + future\n",
    "if (today == 0):\n",
    "    print('今天是周日')\n",
    "elif (today == 1):\n",
    "    print('今天是周一')\n",
    "elif (today == 2):\n",
    "    print('今天是周二')\n",
    "elif (today == 3):\n",
    "    print('今天是周三')\n",
    "elif (today == 4):\n",
    "    print('今天是周四')\n",
    "elif (today == 5):\n",
    "    print('今天是周五')\n",
    "elif (today == 6):\n",
    "    print('今天是周六')\n",
    "if (a % 7 == 0):\n",
    "    print('未来这天是星期日')\n",
    "elif (a % 7 == 1):\n",
    "    print('未来这天是星期一')\n",
    "elif (a % 7 == 2):\n",
    "    print('未来这天是星期二')\n",
    "elif (a % 7 == 3):\n",
    "    print('未来这天是星期三')\n",
    "elif (a % 7 == 4):\n",
    "    print('未来这天是星期四')\n",
    "elif (a % 7 == 5):\n",
    "    print('未来这天是星期五')\n",
    "elif (a % 7 == 6):\n",
    "    print('未来这天是星期六')"
   ]
  },
  {
   "cell_type": "markdown",
   "metadata": {},
   "source": [
    "- 4\n",
    "![](../Photo/45.png)"
   ]
  },
  {
   "cell_type": "code",
   "execution_count": 7,
   "metadata": {},
   "outputs": [
    {
     "name": "stdout",
     "output_type": "stream",
     "text": [
      "请输入三个整数2,5,1\n",
      "[1, 2, 5]\n"
     ]
    }
   ],
   "source": [
    "a,b,c = eval(input('请输入三个整数'))\n",
    "d = [a,b,c]\n",
    "d.sort()\n",
    "print(d)"
   ]
  },
  {
   "cell_type": "markdown",
   "metadata": {},
   "source": [
    "# - 5\n",
    "![](../Photo/46.png)"
   ]
  },
  {
   "cell_type": "code",
   "execution_count": 13,
   "metadata": {},
   "outputs": [
    {
     "name": "stdout",
     "output_type": "stream",
     "text": [
      "请输入第一种包装重量和价钱50,24.59\n",
      "请输入第二种包装重量和价钱25,11.99\n",
      "第二种包装更高\n"
     ]
    }
   ],
   "source": [
    "g1,m1 = eval(input('请输入第一种包装重量和价钱'))\n",
    "g2,m2 = eval(input('请输入第二种包装重量和价钱'))\n",
    "a = m1/g1\n",
    "b = m2/g2\n",
    "if a<b:\n",
    "    print('第一种包装更好')\n",
    "else:\n",
    "    print('第二种包装更高')"
   ]
  },
  {
   "cell_type": "markdown",
   "metadata": {},
   "source": [
    "- 6\n",
    "![](../Photo/47.png)"
   ]
  },
  {
   "cell_type": "code",
   "execution_count": 20,
   "metadata": {},
   "outputs": [
    {
     "name": "stdout",
     "output_type": "stream",
     "text": [
      "请输入年份和月份：2008,2\n",
      "2008年2月有29天\n"
     ]
    }
   ],
   "source": [
    "year,mouth = eval(input('请输入年份和月份：'))\n",
    "if (mouth==2 and year % 4 == 0) and (year % 100!= 0 ) or (year % 400 == 0):\n",
    "    print(str(year)+'年'+str(mouth)+'月有29天')\n",
    "else:\n",
    "    print(str(year)+'年'+str(mouth)+'月有28天')\n",
    "if mouth == (1,3,5,7,8,10,12):\n",
    "    print(str(year)+'年'+str(mouth)+'月有31天')\n",
    "elif mouth == (4,6,9,11):\n",
    "    print(str(year)+'年'+str(mouth)+'月有30天')"
   ]
  },
  {
   "cell_type": "markdown",
   "metadata": {},
   "source": [
    "- 7\n",
    "![](../Photo/48.png)"
   ]
  },
  {
   "cell_type": "code",
   "execution_count": 24,
   "metadata": {},
   "outputs": [
    {
     "name": "stdout",
     "output_type": "stream",
     "text": [
      "请输入你的猜想：正面\n",
      "猜错了\n"
     ]
    }
   ],
   "source": [
    "x = input('请输入你的猜想：')\n",
    "random_ = random.randint(1,2)\n",
    "if random_ == 1 :\n",
    "    print('猜对了')\n",
    "elif random_ == 2:\n",
    "    print('猜错了')"
   ]
  },
  {
   "cell_type": "markdown",
   "metadata": {},
   "source": [
    "- 8\n",
    "![](../Photo/49.png)"
   ]
  },
  {
   "cell_type": "code",
   "execution_count": 6,
   "metadata": {},
   "outputs": [
    {
     "name": "stdout",
     "output_type": "stream",
     "text": [
      "剪刀为0,石头为1,布为2：0\n",
      "电脑跟你一样是剪刀，平局\n"
     ]
    }
   ],
   "source": [
    "import random\n",
    "x = eval(input('剪刀为0,石头为1,布为2：'))\n",
    "random_ = random.randint(0,2)\n",
    "if x == random_:\n",
    "    if x == 2 and random_ == 2:\n",
    "        print('电脑跟你一样是布，平局')\n",
    "    elif x== 1 and random_ == 1:\n",
    "        print('电脑跟你一样是石头,平局')\n",
    "    elif x == 0 and random_ == 0:\n",
    "        print('电脑跟你一样是剪刀，平局')\n",
    "elif x>random_:\n",
    "    if x==2 and random_==0:\n",
    "        print('电脑是剪刀，你输了')\n",
    "    elif x ==1 and random_ == 0:\n",
    "        print('电脑是剪刀，你赢了')\n",
    "    elif x ==2 and random_ == 1:\n",
    "        print('电脑是石头，你赢了')\n",
    "elif x<random_:\n",
    "    if x == 0 and random_ == 1:\n",
    "        print('电脑是石头，你输了')\n",
    "    elif x == 0 and random_ == 2:\n",
    "        print('电脑是布，你赢了')\n",
    "    elif x ==1 and random_ == 2:\n",
    "        print('电脑是布，你输了')"
   ]
  },
  {
   "cell_type": "markdown",
   "metadata": {},
   "source": [
    "- 9\n",
    "![](../Photo/50.png)"
   ]
  },
  {
   "cell_type": "code",
   "execution_count": null,
   "metadata": {},
   "outputs": [],
   "source": [
    "year = eval(input('请输入年份：'))\n",
    "mouth = eval(input('请输入月份：'))\n",
    "day = eval(input('请输入哪一天：'))\n"
   ]
  },
  {
   "cell_type": "markdown",
   "metadata": {},
   "source": [
    "- 10\n",
    "![](../Photo/51.png)"
   ]
  },
  {
   "cell_type": "code",
   "execution_count": 18,
   "metadata": {},
   "outputs": [
    {
     "name": "stdout",
     "output_type": "stream",
     "text": [
      "这张扑克牌是['黑桃'] ['jack']\n"
     ]
    }
   ],
   "source": [
    "import random\n",
    "a = ('Ace',2,3,4,5,6,7,8,9,10,'jack','Queen','King')\n",
    "b = ('梅花','红桃','方块','黑桃')\n",
    "c = random.sample(a,1)\n",
    "d = random.sample(b,1)\n",
    "print('这张扑克牌是'+str(d),str(c))"
   ]
  },
  {
   "cell_type": "markdown",
   "metadata": {},
   "source": [
    "- 11\n",
    "![](../Photo/52.png)"
   ]
  },
  {
   "cell_type": "code",
   "execution_count": 29,
   "metadata": {},
   "outputs": [
    {
     "name": "stdout",
     "output_type": "stream",
     "text": [
      "请输入一个三位数：121\n",
      "1221\n",
      "1221不是回文数\n"
     ]
    }
   ],
   "source": [
    "num = eval(input('请输入一个三位数：'))\n",
    "a = num%10\n",
    "b = (num//10)%10\n",
    "c = num%100\n",
    "x= str(a)+str(b)+str(c)\n",
    "y = str(c)+str(b)+str(a)\n",
    "print(x)\n",
    "if x==y:\n",
    "    print(x+'是回文数')\n",
    "else:\n",
    "    print(x+'不是回文数')"
   ]
  },
  {
   "cell_type": "code",
   "execution_count": 35,
   "metadata": {},
   "outputs": [
    {
     "name": "stdout",
     "output_type": "stream",
     "text": [
      "请输入一个三位数：121\n",
      "这是一个回文数\n"
     ]
    }
   ],
   "source": [
    "num=input('请输入一个三位数：')\n",
    "if num[0] == num[2]:\n",
    "    print ('这是一个回文数')\n",
    "else:\n",
    "    print ('这不是一个回文数')"
   ]
  },
  {
   "cell_type": "markdown",
   "metadata": {},
   "source": [
    "- 12\n",
    "![](../Photo/53.png)"
   ]
  },
  {
   "cell_type": "code",
   "execution_count": 38,
   "metadata": {},
   "outputs": [
    {
     "name": "stdout",
     "output_type": "stream",
     "text": [
      "请输入三边长度：1,1,2\n",
      "不符合规则\n"
     ]
    }
   ],
   "source": [
    "a,b,c = eval(input('请输入三边长度：'))\n",
    "x = a+b+c\n",
    "if ((a+b)>c) and ((a+c)>b) and ((b+c)>a):\n",
    "    print(x)\n",
    "else:\n",
    "    print('不符合规则')\n",
    "    "
   ]
  },
  {
   "cell_type": "code",
   "execution_count": null,
   "metadata": {},
   "outputs": [],
   "source": []
  },
  {
   "cell_type": "code",
   "execution_count": null,
   "metadata": {},
   "outputs": [],
   "source": []
  }
 ],
 "metadata": {
  "kernelspec": {
   "display_name": "Python 3",
   "language": "python",
   "name": "python3"
  },
  "language_info": {
   "codemirror_mode": {
    "name": "ipython",
    "version": 3
   },
   "file_extension": ".py",
   "mimetype": "text/x-python",
   "name": "python",
   "nbconvert_exporter": "python",
   "pygments_lexer": "ipython3",
   "version": "3.6.4"
  }
 },
 "nbformat": 4,
 "nbformat_minor": 2
}
